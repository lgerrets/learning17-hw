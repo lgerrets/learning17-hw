{
 "cells": [
  {
   "cell_type": "markdown",
   "metadata": {},
   "source": [
    "\n",
    "# TP1 : Linear regression"
   ]
  },
  {
   "cell_type": "markdown",
   "metadata": {},
   "source": [
    "The purpose of this work is to implement least square linear regression to medical data. The problem is based on an example described in the book by Hastie & Tibshirani (2009) pp. 3-4 & 49-63. Data come from a study published by Stamey et al. (1989). This study aims at the prediction of the level of prostate specific antigen, denoted by `lpsa` below, from the\n",
    "results of clinical exams. These exams are carried out before a possible\n",
    "prostatectomy.\n",
    "\n",
    "The measurements are log cancer volume `lcavol`, log prostate \n",
    "weight `lweight`, age of the patient `age`, log of benign prostatic \n",
    "hyperplasia amount `lbph`, seminal vesicle invasion `svi`, log of capsular \n",
    "penetration `lcp`, Gleason score `gleason`, and percent of Gleason scores 4 or \n",
    "5 `pgg45`. The variables `svi` and `gleason` are categorical, others are\n",
    "quantitative. There are `p=8` entries.\n",
    "The work is decomposed in the following tasks:\n",
    "\n",
    "* read and format the data : extraction of the training and test sets,\n",
    "* apply least square regression method to predict `lpsa` from the entries,\n",
    "* study the estimated error on the test set (validation),\n",
    "* identify the most significant entries by using a rejection test,\n",
    "* apply regularized least square regression method (ridge regression),\n",
    "* search for an optimal regularization parameter thanks to\n",
    "cross-validation."
   ]
  },
  {
   "cell_type": "code",
   "execution_count": 1,
   "metadata": {
    "collapsed": true
   },
   "outputs": [],
   "source": [
    "import csv\n",
    "# import os\n",
    "from pylab import *\n",
    "import numpy as np\n",
    "from numpy import linalg as la\n",
    "import matplotlib.pyplot as plt\n",
    "import copy"
   ]
  },
  {
   "cell_type": "markdown",
   "metadata": {},
   "source": [
    "## Read & Normalize data\n",
    "Data are stored in ASCII format: \n",
    "\n",
    "* the first column enumerates the data from 1 à 97 (97 male subjects). \n",
    "* columns 2 to 9 contain the entries themselves. \n",
    "* column 10 contains target values. \n",
    "* column 11 contains label 1 for the training set, \n",
    "and 2 for the test set."
   ]
  },
  {
   "cell_type": "code",
   "execution_count": 2,
   "metadata": {
    "collapsed": true
   },
   "outputs": [],
   "source": [
    "#%% To read data from spaced separated float numbers\n",
    "# x, y = np.loadtxt(c, delimiter=',', usecols=(0, 2), unpack=True)\n",
    "\n",
    "data_init = np.loadtxt('prostate_data_sansheader.txt')\n",
    "\n",
    "data = data_init[:,1:]   # we get rid of the indices (1 to 97)\n",
    "\n",
    "#%% Extraction of training/test sets\n",
    "Itrain = np.nonzero(data[:,-1]==1)\n",
    "data_train=data[Itrain]   # original data\n",
    "\n",
    "Itest = np.nonzero(data[:,-1]==0)\n",
    "data_test = data[Itest]   # original data"
   ]
  },
  {
   "cell_type": "markdown",
   "metadata": {},
   "source": [
    "**Normalization of the data** *with respect to the mean and standard deviation of the training set*."
   ]
  },
  {
   "cell_type": "code",
   "execution_count": 3,
   "metadata": {
    "collapsed": true
   },
   "outputs": [],
   "source": [
    "M_train = data_train\n",
    "M_test = data_test \n",
    "moy = np.zeros((8,))\n",
    "sigma = np.zeros((8,))\n",
    "\n",
    "# With a FOR loop :\n",
    "for k in range(8): # 8 columns of entries\n",
    "    moy[k]=np.mean(data_train[:,k])\n",
    "    sigma[k] = np.std(data_train[:,k])\n",
    "    M_train[:,k] = (data_train[:,k]-moy[k])/sigma[k] # normalized: centered, variance 1\n",
    "    M_test[:,k] = (data_test[:,k]-moy[k])/sigma[k]   # same normalization for test set"
   ]
  },
  {
   "cell_type": "code",
   "execution_count": 4,
   "metadata": {
    "collapsed": true
   },
   "outputs": [],
   "source": [
    "# Alternative WITHOUT FOR\n",
    "normalize = lambda vec: (vec-np.mean(vec))/np.std(vec)    # inline function \n",
    "M_train = np.array( [ normalize(vec) for vec in data_train[:,0:8].T ] ).T  # iterate on vec direct / ARRAY not LIST\n",
    "moy = np.array( [ np.mean(vec) for vec in data_train[:,0:8].T ] )\n",
    "sigma = np.array( [ np.std(vec) for vec in data_train[:,0:8].T ] )\n",
    "\n",
    "M_test = np.array([ (data_test[:,k]-moy[k])/sigma[k] for k in range(M_train.shape[1]) ] ).T"
   ]
  },
  {
   "cell_type": "markdown",
   "metadata": {},
   "source": [
    "# Part 1 : simple least square regression"
   ]
  },
  {
   "cell_type": "markdown",
   "metadata": {},
   "source": [
    "## Preliminary questions\n",
    " \n",
    " * Compute the autocovariance matrix from the training set.\n",
    " * Observe carefully & Comment. What kind of information can you get ? "
   ]
  },
  {
   "cell_type": "code",
   "execution_count": 5,
   "metadata": {
    "scrolled": true
   },
   "outputs": [
    {
     "data": {
      "text/plain": [
       "array([[ 1.        ,  0.30023199,  0.28632427,  0.06316772,  0.59294913,\n",
       "         0.69204308,  0.42641407,  0.48316136],\n",
       "       [ 0.30023199,  1.        ,  0.31672347,  0.43704154,  0.18105448,\n",
       "         0.15682859,  0.02355821,  0.07416632],\n",
       "       [ 0.28632427,  0.31672347,  1.        ,  0.28734645,  0.12890226,\n",
       "         0.1729514 ,  0.36591512,  0.27580573],\n",
       "       [ 0.06316772,  0.43704154,  0.28734645,  1.        , -0.1391468 ,\n",
       "        -0.08853456,  0.03299215, -0.03040382],\n",
       "       [ 0.59294913,  0.18105448,  0.12890226, -0.1391468 ,  1.        ,\n",
       "         0.67124021,  0.30687537,  0.48135774],\n",
       "       [ 0.69204308,  0.15682859,  0.1729514 , -0.08853456,  0.67124021,\n",
       "         1.        ,  0.47643684,  0.66253335],\n",
       "       [ 0.42641407,  0.02355821,  0.36591512,  0.03299215,  0.30687537,\n",
       "         0.47643684,  1.        ,  0.7570565 ],\n",
       "       [ 0.48316136,  0.07416632,  0.27580573, -0.03040382,  0.48135774,\n",
       "         0.66253335,  0.7570565 ,  1.        ]])"
      ]
     },
     "execution_count": 5,
     "metadata": {},
     "output_type": "execute_result"
    }
   ],
   "source": [
    "# Preliminary questions\n",
    "autocov = M_train.transpose().dot(M_train)/size(M_train,0)\n",
    "autocov"
   ]
  },
  {
   "cell_type": "code",
   "execution_count": 6,
   "metadata": {},
   "outputs": [
    {
     "data": {
      "text/plain": [
       "(67, 8)"
      ]
     },
     "execution_count": 6,
     "metadata": {},
     "output_type": "execute_result"
    }
   ],
   "source": [
    "shape(M_train)"
   ]
  },
  {
   "cell_type": "markdown",
   "metadata": {},
   "source": [
    "On observe sur la matrice de covariance que certaines entries sont plus corrélées que d'autres : les deux dernières entries ont un coefficient de corrélation de 0.76 (valeur absolue proche de 1, elles portent donc des informations similaires) et les entries 1 ou 4 ont un coeff de corrélation de 0.06 (proche de 0, ces entries sont décorrélées). \n",
    "Comme prévu, les termes diagonaux sont tous égaux à 1 car les sets de données sont normalisées ie de Variance 1 et d'espérance 0."
   ]
  },
  {
   "cell_type": "markdown",
   "metadata": {},
   "source": [
    "## Exercise 1 : least square regression \n",
    " * Build the matrix of features `X_train` for the training set, the first column is made of ones.\n",
    " * Estimate the regression vector `beta_hat` (estimates= `X*beta_hat`)\n",
    " _Indication: you may either use the function `inv` or another more efficient way to compute $A^{-1}B$ (think of `A\\B`)._ \n",
    " * What is the value of the first coefficient `beta_hat[0]` ? What does it correspond to ?\n",
    " * Estimate the prediction error (quadratic error) from the test set.\n",
    "\n",
    "\n",
    "*Indication: be careful of using `X_test` defined above, normalized w.r.t. the training data set. You can estimate this error by using:*"
   ]
  },
  {
   "cell_type": "code",
   "execution_count": 7,
   "metadata": {
    "collapsed": true
   },
   "outputs": [],
   "source": [
    "t_train = data_train[:,8]   # target column\n",
    "N_train = data_train.shape[0] # nombre d'exemples tests\n",
    "X_train = np.concatenate((np.ones((N_train,1)), M_train[:,0:8]), axis=1) # don't forget the 1st column of ones and normalization !\n",
    "\n",
    "t_test = data_test[:,8]   # target column\n",
    "N_test = data_test.shape[0] # nombre d'exemples tests\n",
    "X_test = np.concatenate((np.ones((N_test,1)), M_test[:,0:8]), axis=1) # don't forget the 1st column of ones and normalization !"
   ]
  },
  {
   "cell_type": "code",
   "execution_count": 8,
   "metadata": {
    "scrolled": true
   },
   "outputs": [
    {
     "data": {
      "text/plain": [
       "array([ 2.45234509,  0.71104059,  0.29045029, -0.14148182,  0.21041951,\n",
       "        0.30730025, -0.28684075, -0.02075686,  0.27526843])"
      ]
     },
     "execution_count": 8,
     "metadata": {},
     "output_type": "execute_result"
    }
   ],
   "source": [
    "# Exercise 1\n",
    "Beta_hat = la.inv(X_train.transpose().dot(X_train)).dot(X_train.transpose()).dot(t_train)\n",
    "Beta_hat"
   ]
  },
  {
   "cell_type": "code",
   "execution_count": 9,
   "metadata": {},
   "outputs": [
    {
     "data": {
      "text/plain": [
       "2.4523450850746267"
      ]
     },
     "execution_count": 9,
     "metadata": {},
     "output_type": "execute_result"
    }
   ],
   "source": [
    "np.mean(t_train)"
   ]
  },
  {
   "cell_type": "markdown",
   "metadata": {},
   "source": [
    "Le premier coeff de Beta_hat correspond au coefficient de biais. C'est la moyenne des target."
   ]
  },
  {
   "cell_type": "code",
   "execution_count": 10,
   "metadata": {
    "collapsed": true
   },
   "outputs": [],
   "source": [
    "estimatestrain = X_train.dot(Beta_hat)\n",
    "estimatestest = X_test.dot(Beta_hat)\n"
   ]
  },
  {
   "cell_type": "code",
   "execution_count": 11,
   "metadata": {},
   "outputs": [
    {
     "data": {
      "text/plain": [
       "(29.426384459908398, 0.66272148603944803)"
      ]
     },
     "execution_count": 11,
     "metadata": {},
     "output_type": "execute_result"
    }
   ],
   "source": [
    "(estimatestrain-t_train).transpose().dot(estimatestrain-t_train),std((estimatestrain-t_train))"
   ]
  },
  {
   "cell_type": "markdown",
   "metadata": {},
   "source": [
    "On affiche (erreur,erreur quadratique moyenne) du modèle évalué sur le **train set**. Le fit n'est pas très bon puisqu'on a une erreur quadratique moyenne de 0,66."
   ]
  },
  {
   "cell_type": "code",
   "execution_count": 12,
   "metadata": {},
   "outputs": [
    {
     "data": {
      "text/plain": [
       "(15.638220165228027, 0.72068138426057904)"
      ]
     },
     "execution_count": 12,
     "metadata": {},
     "output_type": "execute_result"
    }
   ],
   "source": [
    "(estimatestest-t_test).transpose().dot(estimatestest-t_test),std(estimatestest-t_test)"
   ]
  },
  {
   "cell_type": "markdown",
   "metadata": {},
   "source": [
    "On affiche (erreur,erreur quadratique moyenne) du modèle évalué sur le **test set**. Le résultat est moins bon que le précédent (0.72 > 0.66) car le test set contient des données que le modèle n'a jamais rencontré (puisqu'il a été construit à partir du train set)."
   ]
  },
  {
   "cell_type": "markdown",
   "metadata": {},
   "source": [
    "## Rejection test, computation of Z-scores\n",
    "Now we turn to the selection of the most significant entries so that our predictor be more robust. The essential idea is that our estimates will be more robust if only the most significant entries are taken into account. As a consequence, note that we will *reduce the dimension* of the problem from |p=8| to some smaller dimension. The present approach uses a statistical test to decide whether the regression coefficient corresponding to some entry is significantly non-zero. Then we can decide either to put non significant coefficients to zero, or to select the significant entries only and estimate the new reduced regression vector.\n",
    "\n",
    "Let's assume that target values are noisy due to some white Gaussian\n",
    "noise with variance $\\sigma^2$ (see Hastie & Tibshirani p. 47). One can show that the estimated regression vector |beta_hat| is also Gaussian with variance\n",
    "\n",
    "$$ var (\\widehat{\\beta}) = (X^TX)^{-1}\\sigma^2.$$  \n",
    "\n",
    "One can also show that the estimator of the variance (from the training set)\n",
    "\n",
    "$$\\widehat{\\sigma^2}=\\frac{1}{(N-p-1)}\\sum (t_n-\\widehat{t}_n)^2$$\n",
    "\n",
    "obeys a Chi-2 distribution. As a consequence a Chi-square statistical test can be used to determine whether some coefficient $\\beta_j$ is\n",
    "significantly non-zero. To this aim, one defines the variables $z_j$\n",
    "named Z-scores which in turn obey a Fisher law, also called\n",
    "$t$-distribution, which are often used in statistics:\n",
    "\n",
    "$$ z_j = \\frac{\\beta_j}{\\widehat{\\sigma}\\sqrt{v_j}} $$\n",
    "\n",
    "where $v_j$ is the $j$-th diagonal element of the matrix $(X^TX)^{-1}$.\n",
    "For sake of simplicity, we will consider that the null hypothesis of\n",
    "$\\beta_j$ is rejected with probability 95% if the Z-score is greater than 2."
   ]
  },
  {
   "cell_type": "markdown",
   "metadata": {},
   "source": [
    "## Exercise 2\n",
    "1. Compute the Z-scores and select the most significant entries.\n",
    "2. Estimate the prediction error over the test set if only these significant \n",
    "entries are taken into account for regression by putting other regression \n",
    "coefficients to zero.\n",
    "3. Estimate the new regression vector when only the significant features\n",
    "are taken into account.\n",
    "4. Compare to previous results (Exercise 1).\n",
    "\n",
    "*Indication 1 : to sort a vector `Z` in descending order*\n",
    "`val = np.sort(np.abs(Z))[-1:0:-1]`\n",
    "\n",
    "\n",
    "*Indication 2 :* to extract the diagonal of a matrix,\n",
    "`vXX = np.diag(inv(X.T.dot(X),k=0)`"
   ]
  },
  {
   "cell_type": "code",
   "execution_count": 13,
   "metadata": {},
   "outputs": [
    {
     "data": {
      "text/plain": [
       "(array([ 0.,  0.,  0.,  0.,  1.,  1.,  0.,  1.,  1.]),\n",
       " array([ 2.45234509,  0.79517893,  0.3662992 , -0.06918988, -0.00933831]))"
      ]
     },
     "execution_count": 13,
     "metadata": {},
     "output_type": "execute_result"
    }
   ],
   "source": [
    "# Exercise 2\n",
    "sigma2=std((estimatestrain-t_train))\n",
    "X_trainZscore = np.ones((N_train,1))\n",
    "diag=np.diag(inv(X_train.transpose().dot(X_train)))\n",
    "\n",
    "entriesignored = np.zeros((9,)) # pour voir quelles entries on sélectionne, on peut par exemple créer un vecteur \n",
    "                        # entriesignored qui renvoie 0(false) si l'entry n'est pas ignored, 1 si elle l'est\n",
    "\n",
    "for j in range(8):\n",
    "    if np.random.rand()>0.95 or Beta_hat[j]/np.sqrt(sigma2*diag[j])<2:  # traduction du test de l'énoncé, \n",
    "                   # on accepte l'hypothèse de nullité si zscore est inférieur à 2 \n",
    "                          # ou toute donnée supérieur de zscore supérieur 2 à dans 5% des cas      \n",
    "        entriesignored[j+1]=1\n",
    "        \n",
    "    else:\n",
    "        \n",
    "        X_trainZscore = np.concatenate((X_trainZscore, M_train[:,j:j+1]),axis=1)\n",
    "            # dans X_trainZscore on crée le nouveau vecteur entries des données sélectionnées.\n",
    "            # pour pouvoir l'inverser dans le calcul de Beta_hat on doit enlever les colonnes de 0\n",
    "        \n",
    "Beta_hat_2 = la.inv(X_trainZscore.transpose().dot(X_trainZscore)).dot(X_trainZscore.transpose()).dot(t_train)\n",
    "\n",
    "entriesignored,Beta_hat_2"
   ]
  },
  {
   "cell_type": "markdown",
   "metadata": {},
   "source": [
    "Finalement on ignore les entries 4,5,7 et 8 qui satisfont dans notre simulation le test sur l'hypothèse de nullité de Beta_hat[ j ]."
   ]
  },
  {
   "cell_type": "code",
   "execution_count": 14,
   "metadata": {},
   "outputs": [
    {
     "data": {
      "text/plain": [
       "array([ 2.45234509,  0.79517893,  0.3662992 , -0.06918988,  0.        ,\n",
       "        0.        , -0.00933831,  0.        ,  0.        ])"
      ]
     },
     "execution_count": 14,
     "metadata": {},
     "output_type": "execute_result"
    }
   ],
   "source": [
    "Beta_hat_score = np.zeros((9,))\n",
    "y=0\n",
    "for j in range(9): \n",
    "    if entriesignored[j]==0:\n",
    "        Beta_hat_score[j]=Beta_hat_2[y]\n",
    "        y=y+1\n",
    "Beta_hat_score "
   ]
  },
  {
   "cell_type": "markdown",
   "metadata": {},
   "source": [
    "Voici le nouveau Beta_hat à l'issu de cette méthode. Les entries ignorées ont été mises à 0."
   ]
  },
  {
   "cell_type": "code",
   "execution_count": 15,
   "metadata": {},
   "outputs": [
    {
     "data": {
      "text/plain": [
       "(36.814202632315393, 0.7412595435676228)"
      ]
     },
     "execution_count": 15,
     "metadata": {},
     "output_type": "execute_result"
    }
   ],
   "source": [
    "estimatestrain_score = X_train.dot(Beta_hat_score)\n",
    "estimatestest_score = X_test.dot(Beta_hat_score)\n",
    "\n",
    "(estimatestrain_score-t_train).transpose().dot(estimatestrain_score-t_train),std((estimatestrain_score-t_train))"
   ]
  },
  {
   "cell_type": "markdown",
   "metadata": {},
   "source": [
    "Le fit est moins bon que précedemment sur le set de train ( erreur quadratique moyenne de 0,74 contre 0,66 ). C'est logique puisqu'on construit le modèle à l'aide du train set, puis on l'évalue avec ce même set. Conserver toutes les entries est donc avantageux dans ce cas-là."
   ]
  },
  {
   "cell_type": "code",
   "execution_count": 16,
   "metadata": {},
   "outputs": [
    {
     "data": {
      "text/plain": [
       "(14.529582534572313, 0.69549148631608404)"
      ]
     },
     "execution_count": 16,
     "metadata": {},
     "output_type": "execute_result"
    }
   ],
   "source": [
    "(estimatestest_score-t_test).transpose().dot(estimatestest_score-t_test),std((estimatestest_score-t_test))"
   ]
  },
  {
   "cell_type": "markdown",
   "metadata": {},
   "source": [
    "Par contre, quand on évalue sur le set de test, on obtient une erreur quadratique moyenne diminuée (0.70 contre 0.72). Par rapport à l'exercie 1, on a en effet éliminé les entries qui sont décorrélées du target, et qui peuvent donc induire en erreur l'estimation sur un nouveau set de données (inconnu du modèle)."
   ]
  },
  {
   "cell_type": "markdown",
   "metadata": {},
   "source": [
    "# Part 2: Regularized least squares\n",
    "This part deals with regularized least square regression. We denote\n",
    "by `beta_hat_reg` the resulting coefficients. This approach is an alternative to the selection based on statistical tests above. The idea is now to penalize large values of regression coefficients, *except for the bias*.\n",
    "\n",
    "We use the result:\n",
    "\n",
    "$$\\hat{\\beta} = (\\lambda I_p + X_c^T X_c)^{-1} X_c^T t_c$$\n",
    "\n",
    "where $X_c$ contains the normalized entries of the training data set with \n",
    "no column of ones (the bias should no be penalized and is processed). \n",
    "The targets `t_c` are therefore also centered, `t_c=t-mean(t)`.\n",
    " \n",
    "First, we estimate the bias $t_0$ to center the targets which yields the coefficient $\\beta_0$, that is `beta_hat_reg[0]` in Python.\n",
    "\n",
    "*Remark : the bias is estimated as the empirical average of targets.\n",
    "For tests, entries should be normalized with respect to the means and\n",
    "variances of the training data set (see exercise 3.5 p. 95 in Hastie & Tibshirani). Then work on the vector of entries with no column of ones.*"
   ]
  },
  {
   "cell_type": "markdown",
   "metadata": {},
   "source": [
    "## Exercise 3\n",
    "1. Use _ridge regression_ for penalty `lambda = 25` to estimate the regression vector. \n",
    "2. Estimate the prediction error from the test set.\n",
    "3. Compare the results (coefficients $\\beta$, error...) to previous ones.\n",
    "4. You may also compare these results to the result of best subset selection below:\n",
    "\n",
    "`beta_best = [2.477 0.74 0.316 0 0 0 0 0 0]`.\n",
    "\n",
    "*Indication : a simple way to obtain predictions for the test data set is the code below:*"
   ]
  },
  {
   "cell_type": "code",
   "execution_count": 17,
   "metadata": {},
   "outputs": [
    {
     "data": {
      "text/plain": [
       "array([ 2.45234509,  0.4221092 ,  0.24879171, -0.04226499,  0.16575364,\n",
       "        0.23091485,  0.01066329,  0.04306017,  0.13151316])"
      ]
     },
     "execution_count": 17,
     "metadata": {},
     "output_type": "execute_result"
    }
   ],
   "source": [
    "# Exercise 3\n",
    "lam = 25.\n",
    "Beta_hat_reg = la.inv(X_train.transpose().dot(X_train)+np.identity(9)*lam).dot(X_train.transpose()).dot(t_train)\n",
    "Beta_hat_reg[0] = Beta_hat[0] # le terme de biais ne doit pas être régularisé !!\n",
    "Beta_hat_reg"
   ]
  },
  {
   "cell_type": "code",
   "execution_count": 18,
   "metadata": {},
   "outputs": [],
   "source": [
    "t = data_train[:,8]   # column of targets\n",
    "t0 = np.mean(t)\n",
    "\n",
    "N_test = data_test.shape[0]\n",
    "X_test = np.hstack((np.ones((N_test,1)), M_test[:,0:8]))  \n",
    "# Here the 1st column of X_test is a column of ones.\n",
    "estimation = X_test.dot(Beta_hat_reg)"
   ]
  },
  {
   "cell_type": "code",
   "execution_count": 19,
   "metadata": {},
   "outputs": [
    {
     "data": {
      "text/plain": [
       "14.818264797356155"
      ]
     },
     "execution_count": 19,
     "metadata": {},
     "output_type": "execute_result"
    }
   ],
   "source": [
    "estimates_reg = X_test.dot(Beta_hat_reg)\n",
    "(estimates_reg-t_test).transpose().dot(estimates_reg-t_test)"
   ]
  },
  {
   "cell_type": "markdown",
   "metadata": {},
   "source": [
    "# Part 3: Cross-Validation \n",
    "\n",
    "## How to choose lambda from the training data set only ? \n",
    "\n",
    "The idea is to decompose the training set in 2 subsets: one subset for\n",
    "linear regression (say 9/10 of the data), the other to estimate the prediction error (say 1/10 of the data).\n",
    "\n",
    "We can repeat this operation 10 times over the 10 possible couples of\n",
    "subsets to estimate the average prediction error. We will choose the\n",
    "value of `lambda` which minimizes this error. The algorithm goes as\n",
    "follows:\n",
    "\n",
    "For the 10 cross-validation cases\n",
    "    \n",
    "    Extraction of test & training subsets `testset` & `trainset`\n",
    "    \n",
    "    For lambda in 0:40\n",
    "        Estimate `beta_hat` from normalized `trainset` (mean=0, var=1)\n",
    "        Estimate the error from  `testset`\n",
    "    EndFor lambda\n",
    "\n",
    "EndFor 10 cases\n",
    "\n",
    "Compute the average error for each lambda\n",
    "\n",
    "Choose `lambda` which minimizes the error \n"
   ]
  },
  {
   "cell_type": "markdown",
   "metadata": {},
   "source": [
    "## Exercise 4\n",
    "* Use 6-fold cross-validation in the present study to optimize the choice of `lambda`. \n",
    "Try values of `lambda` rangin from 0 to 40 for instance (0:40).\n",
    "* Plot the estimated error as a function of `lambda`.\n",
    "* Propose a well chosen value of `lambda` and give the estimated corresponding\n",
    "error on the test set.\n",
    "* Comment on your results.\n",
    "\n",
    "*Indication 1 : think of shuffling the dataset first.*\n",
    "\n",
    "*Indication 2 : you can build 6 training and test subsets by using the code below*"
   ]
  },
  {
   "cell_type": "code",
   "execution_count": 20,
   "metadata": {
    "collapsed": true
   },
   "outputs": [],
   "source": [
    "# Exercise 4 \n",
    "\n",
    "lmax = 40\n",
    "N_test = 10\n",
    "erreur = np.zeros((6,lmax+1))\n",
    "pmax = 6\n",
    "\n",
    "train_perm = np.random.permutation(data_train.shape[0]) #permutation aléatoire du set\n",
    "data_train = copy.deepcopy(data_train[train_perm])\n",
    "\n",
    "for p in range(pmax):   # build train and test subsets\n",
    "    Itrain = hstack((arange(p*N_test),arange((p+1)*N_test,data_train.shape[0])))\n",
    "    Itest = arange(p*N_test,(p+1)*N_test)   # extraction of testset\n",
    "    N_train = size(Itrain,0)\n",
    "    testset  = data_train[Itest,0:9]   \n",
    "    trainset = data_train[Itrain,0:9]    \n",
    "    t_train = data_train[Itrain,9]\n",
    "    t_test = data_train[Itest,9]\n",
    "    \n",
    "    moy = np.zeros((8,))\n",
    "    sigma = np.zeros((8,))\n",
    "    M_train = np.zeros((N_train,8))\n",
    "    M_test = np.zeros((N_test,8))\n",
    "    for k in range(8): # normalize the 8 columns of entries\n",
    "        moy[k]=np.mean(trainset[:,k])\n",
    "        sigma[k] = np.std(trainset[:,k])\n",
    "        if sigma[k] != 0:\n",
    "            M_train[:,k] = (trainset[:,k]-moy[k])/sigma[k] # normalized: centered, variance 1*\n",
    "        else:\n",
    "            M_train[:,k] = 0\n",
    "        \n",
    "        moy[k]=np.mean(testset[:,k])\n",
    "        sigma[k] = np.std(testset[:,k])\n",
    "        if sigma[k] != 0:\n",
    "            M_test[:,k] = (testset[:,k]-moy[k])/sigma[k] # normalized: centered, variance 1*\n",
    "        else:\n",
    "            M_test[:,k] = 0\n",
    "    \n",
    "    X_train = np.concatenate((np.ones((N_train,1)), M_train[:,0:8]), axis=1)\n",
    "    X_test = np.concatenate((np.ones((N_test,1)), M_test[:,0:8]), axis=1)\n",
    "    \n",
    "    for lam in range(lmax+1):\n",
    "        Beta_hat_reg = la.inv(X_train.transpose().dot(trainset)+np.identity(9)*lam).dot(X_train.transpose()).dot(t_train)\n",
    "        Beta_hat_reg[0] = np.mean(t_train)\n",
    "        estimatess = X_test.dot(Beta_hat_reg)\n",
    "        erreur[p,lam] = (estimatess-t_test).transpose().dot(estimatess-t_test)/N_test # erreur quadratique\n"
   ]
  },
  {
   "cell_type": "code",
   "execution_count": 21,
   "metadata": {},
   "outputs": [
    {
     "data": {
      "text/plain": [
       "(0, 0.16792067827411164)"
      ]
     },
     "execution_count": 21,
     "metadata": {},
     "output_type": "execute_result"
    }
   ],
   "source": [
    "# Exercise 4 ---------------\n",
    "# ...\n",
    "# averaged error on the 6 training/test sets ?\n",
    "# averaged error on the 6 training/test sets ?\n",
    "# standard variation of this error estimate ?\n",
    "\n",
    "# print(erreur_lambda, std_erreur_lambda, erreur_rel_lambda)\n",
    "\n",
    "erreurs = mean(erreur,0)\n",
    "erreur_std = std(erreur,0)\n",
    "bestlambda = np.argmin(mean(erreur,0))\n",
    "(bestlambda,erreurs[bestlambda])"
   ]
  },
  {
   "cell_type": "code",
   "execution_count": 22,
   "metadata": {},
   "outputs": [
    {
     "name": "stdout",
     "output_type": "stream",
     "text": [
      "[  1.67920678e-01   1.75057366e-01   1.83759306e-01   1.93908426e-01\n",
      "   2.05325755e-01   2.17804123e-01   2.31191349e-01   2.45569148e-01\n",
      "   2.61620823e-01   2.81397768e-01   3.10008713e-01   3.59695730e-01\n",
      "   4.60981621e-01   6.98762114e-01   1.36083106e+00   3.83784128e+00\n",
      "   2.30902720e+01   1.53302496e+03   2.84531811e+01   1.24390536e+01\n",
      "   9.51242800e+00   9.51562109e+00   1.11520322e+01   1.43901137e+01\n",
      "   1.96374181e+01   2.76026109e+01   3.93410665e+01   5.65313655e+01\n",
      "   8.22047925e+01   1.21989888e+02   1.84733067e+02   2.77387100e+02\n",
      "   3.84197985e+02   4.46874894e+02   4.20526828e+02   3.48755945e+02\n",
      "   3.33518215e+02   1.18548683e+03   1.14607193e+03   1.79960367e+02\n",
      "   8.91057034e+01] [  2.43394505e-02   2.24030881e-02   2.19791475e-02   2.28271500e-02\n",
      "   2.44781294e-02   2.65499296e-02   2.90117015e-02   3.24942581e-02\n",
      "   3.89645884e-02   5.31750072e-02   8.55350838e-02   1.59453209e-01\n",
      "   3.34440444e-01   7.84854442e-01   2.12897993e+00   7.43677836e+00\n",
      "   5.01002302e+01   3.42578439e+03   6.04487097e+01   2.30662842e+01\n",
      "   1.41504711e+01   1.07399594e+01   9.74586637e+00   1.08501187e+01\n",
      "   1.41363066e+01   1.95061135e+01   2.70176448e+01   3.81897032e+01\n",
      "   5.94000157e+01   1.05546663e+02   1.99351855e+02   3.61448803e+02\n",
      "   5.66720829e+02   6.92916242e+02   6.32794473e+02   4.55101591e+02\n",
      "   3.44217848e+02   2.27405483e+03   2.30027032e+03   2.25343492e+02\n",
      "   7.66024918e+01]\n"
     ]
    }
   ],
   "source": [
    "print(erreurs,erreur_std)"
   ]
  },
  {
   "cell_type": "code",
   "execution_count": 23,
   "metadata": {
    "scrolled": true
   },
   "outputs": [
    {
     "data": {
      "image/png": "[encoded data removed]",
      "text/plain": [
       "<matplotlib.figure.Figure at 0x8b9a278>"
      ]
     },
     "metadata": {},
     "output_type": "display_data"
    }
   ],
   "source": [
    "plt.title('Erreur en fonction de lambda')\n",
    "plt.plot(erreurs)\n",
    "plt.show()"
   ]
  },
  {
   "cell_type": "code",
   "execution_count": 24,
   "metadata": {},
   "outputs": [
    {
     "data": {
      "image/png": "[encoded data removed]",
      "text/plain": [
       "<matplotlib.figure.Figure at 0x9133908>"
      ]
     },
     "metadata": {},
     "output_type": "display_data"
    }
   ],
   "source": [
    "plt.title('Erreur en fonction de lambda (zoomé)')\n",
    "plt.plot(erreurs[:20])\n",
    "plt.show()"
   ]
  },
  {
   "cell_type": "markdown",
   "metadata": {},
   "source": [
    "Le lambda qui donne l'erreur la plus petite sur le test set est lambda = 0."
   ]
  }
 ],
 "metadata": {
  "kernelspec": {
   "display_name": "Python 3",
   "language": "python",
   "name": "python3"
  },
  "language_info": {
   "codemirror_mode": {
    "name": "ipython",
    "version": 3
   },
   "file_extension": ".py",
   "mimetype": "text/x-python",
   "name": "python",
   "nbconvert_exporter": "python",
   "pygments_lexer": "ipython3",
   "version": "3.6.3"
  }
 },
 "nbformat": 4,
 "nbformat_minor": 2
}
