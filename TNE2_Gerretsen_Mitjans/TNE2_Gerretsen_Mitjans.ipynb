{
 "cells": [
  {
   "cell_type": "markdown",
   "metadata": {},
   "source": [
    "# TNE 2: Principal Component Analysis"
   ]
  },
  {
   "cell_type": "markdown",
   "metadata": {},
   "source": [
    "The purpose of this tutorial is to use Principal Component Analysis (PCA) \n",
    "for dimension reduction applied to images.\n"
   ]
  },
  {
   "cell_type": "code",
   "execution_count": 1,
   "metadata": {
    "collapsed": true
   },
   "outputs": [],
   "source": [
    "from pylab import *\n",
    "#import numpy as np\n",
    "#import matplotlib.pyplot as plt\n",
    "\n",
    "from numpy import linalg as la"
   ]
  },
  {
   "cell_type": "markdown",
   "metadata": {},
   "source": [
    "## 1. Application: handwritten digits recognition 5 & 6\n",
    "We load 2 matrices which contain each a sequence of examples of 16x16 images of handwritten digits which are 5 and 6 here. Each line of the matrix contains 256 pixel values coding for the gray level of a 16x16 image."
   ]
  },
  {
   "cell_type": "code",
   "execution_count": 2,
   "metadata": {
    "collapsed": true
   },
   "outputs": [],
   "source": [
    "train_5 = np.loadtxt('train_5.txt',delimiter=',')   # 556 samples\n",
    "train_6 = np.loadtxt('train_6.txt',delimiter=',')   # 664 samples"
   ]
  },
  {
   "cell_type": "markdown",
   "metadata": {},
   "source": [
    "#### Examples of images:"
   ]
  },
  {
   "cell_type": "code",
   "execution_count": 3,
   "metadata": {},
   "outputs": [
    {
     "data": {
      "image/png": "[encoded data removed]",
      "text/plain": [
       "<matplotlib.figure.Figure at 0x8b5a080>"
      ]
     },
     "metadata": {},
     "output_type": "display_data"
    }
   ],
   "source": [
    "# Digit 5\n",
    "n=9;\n",
    "I = np.reshape(train_5[n,:],(16,16))\n",
    "\n",
    "plt.imshow(I,cmap='gray')\n",
    "plt.show()"
   ]
  },
  {
   "cell_type": "code",
   "execution_count": 4,
   "metadata": {},
   "outputs": [
    {
     "data": {
      "image/png": "[encoded data removed]",
      "text/plain": [
       "<matplotlib.figure.Figure at 0x9075278>"
      ]
     },
     "metadata": {},
     "output_type": "display_data"
    }
   ],
   "source": [
    "# Digit 6\n",
    "n=5;\n",
    "I = reshape(train_6[n,:],(16,16))\n",
    "\n",
    "plt.imshow(I,cmap='gray')\n",
    "plt.show()"
   ]
  },
  {
   "cell_type": "markdown",
   "metadata": {},
   "source": [
    "#### Separating the training and test sets\n",
    "\n",
    "We keep in the training set the 145 first images of 5s and the 200 first\n",
    "images of 6s:"
   ]
  },
  {
   "cell_type": "code",
   "execution_count": 5,
   "metadata": {
    "collapsed": true
   },
   "outputs": [],
   "source": [
    "x_train_brut = np.vstack((train_5[:145,:], train_6[:200,:]))\n",
    "N_train = np.size(x_train_brut,axis=0)\n",
    "class_train = np.ones((345,1))   # label 1 for digit 6\n",
    "class_train[:145] = 0       # label 0 for digit 5\n",
    "\n",
    "x_test_brut = np.vstack((train_5[145:,:], train_6[200:,:]))\n",
    "N_test = np.size(train_5,axis=0)+np.size(train_6,axis=0)-N_train"
   ]
  },
  {
   "cell_type": "markdown",
   "metadata": {},
   "source": [
    "## 2. Principal Component Analysis\n",
    "\n",
    "The purpose of this part is to observe the respective contributions of\n",
    "each component of a PCA of images of 5. The function `sklearn.decomposition.PCA` of `scikit-learn` is available. In practice, one must first estimate the mean vector and then work with centered data. "
   ]
  },
  {
   "cell_type": "markdown",
   "metadata": {},
   "source": [
    "### Documentation\n",
    "First have a look at\n",
    "http://scikit-learn.org/stable/modules/generated/sklearn.decomposition.PCA.html\n",
    "    "
   ]
  },
  {
   "cell_type": "code",
   "execution_count": 6,
   "metadata": {
    "collapsed": true
   },
   "outputs": [],
   "source": [
    "# Principal component analysis\n",
    "moy_train = x_train_brut.mean(axis=0)  # all the data, 5 & 6\n",
    "x_train_centre = x_train_brut-np.tile(moy_train,(N_train,1))\n",
    "\n",
    "# PCA from scikit-learn\n",
    "from sklearn.decomposition import PCA\n",
    "pca = PCA()\n",
    "pca.fit(x_train_centre)  # you may forget centering that is done by sklearn PCA\n",
    "\n",
    "singval = pca.singular_values_   # eigenvalues\n",
    "comp = pca.components_           # principal components\n",
    "proj = pca.transform(x_train_centre)  # computes the projection coefficients"
   ]
  },
  {
   "cell_type": "code",
   "execution_count": 7,
   "metadata": {},
   "outputs": [
    {
     "data": {
      "text/plain": [
       "(345, 256)"
      ]
     },
     "execution_count": 7,
     "metadata": {},
     "output_type": "execute_result"
    }
   ],
   "source": [
    "proj.shape"
   ]
  },
  {
   "cell_type": "markdown",
   "metadata": {},
   "source": [
    "### Display the averaged images of 5 & 6 respectively"
   ]
  },
  {
   "cell_type": "code",
   "execution_count": 8,
   "metadata": {},
   "outputs": [
    {
     "data": {
      "image/png": "[encoded data removed]",
      "text/plain": [
       "<matplotlib.figure.Figure at 0x8c70d68>"
      ]
     },
     "metadata": {},
     "output_type": "display_data"
    }
   ],
   "source": [
    "I_moy = np.reshape(moy_train,(16,16))   # averaged image = mean \n",
    "plt.imshow(I_moy,cmap = 'gray')\n",
    "plt.show()"
   ]
  },
  {
   "cell_type": "code",
   "execution_count": 9,
   "metadata": {},
   "outputs": [
    {
     "data": {
      "image/png": "[encoded data removed]",
      "text/plain": [
       "<matplotlib.figure.Figure at 0xb5f9eb8>"
      ]
     },
     "metadata": {},
     "output_type": "display_data"
    },
    {
     "data": {
      "image/png": "[encoded data removed]",
      "text/plain": [
       "<matplotlib.figure.Figure at 0xb684d68>"
      ]
     },
     "metadata": {},
     "output_type": "display_data"
    }
   ],
   "source": [
    "moy_train_5 = x_train_brut[:145,:].mean(axis=0) # averaged vectors of 5s\n",
    "moy_train_6 = x_train_brut[145:,:].mean(axis=0) # averaged vectors of 6s\n",
    "\n",
    "I_moy_5 = np.reshape(moy_train_5,(16,16))   \n",
    "plt.imshow(I_moy_5,cmap = 'gray')\n",
    "plt.title(\"Image moyenne des 5\")\n",
    "\n",
    "plt.figure()\n",
    "I_moy_6 = np.reshape(moy_train_6,(16,16))   \n",
    "plt.imshow(I_moy_6,cmap = 'gray')\n",
    "plt.title(\"Image moyenne des 6\")\n",
    "\n",
    "plt.show()"
   ]
  },
  {
   "cell_type": "markdown",
   "metadata": {},
   "source": [
    "### Display an example rebuilt from the 1st component only"
   ]
  },
  {
   "cell_type": "code",
   "execution_count": 10,
   "metadata": {},
   "outputs": [
    {
     "data": {
      "image/png": "[encoded data removed]",
      "text/plain": [
       "<matplotlib.figure.Figure at 0xb5f3b00>"
      ]
     },
     "metadata": {},
     "output_type": "display_data"
    }
   ],
   "source": [
    "n=9   # choice of image no n=12 or any other\n",
    "\n",
    "I = I_moy + proj[n,0]*np.reshape(comp[0,:],(16,16))  # adding the 1st PCA component \n",
    "plt.imshow(I,cmap='gray')\n",
    "plt.show()"
   ]
  },
  {
   "cell_type": "markdown",
   "metadata": {},
   "source": [
    "### Etude qualitative préliminaire"
   ]
  },
  {
   "cell_type": "code",
   "execution_count": 11,
   "metadata": {},
   "outputs": [
    {
     "data": {
      "image/png": "[encoded data removed]",
      "text/plain": [
       "<matplotlib.figure.Figure at 0xb6c6ef0>"
      ]
     },
     "metadata": {},
     "output_type": "display_data"
    }
   ],
   "source": [
    "I = np.reshape(np.diag(x_train_centre.T.dot(x_train_centre)),(16,16))  # rendu de la variance de chaque pixel\n",
    "plt.imshow(I,cmap='gray')\n",
    "plt.title(\"Fig 1 : Variance des pixels\")\n",
    "plt.show()"
   ]
  },
  {
   "cell_type": "markdown",
   "metadata": {},
   "source": [
    "Les pixels les plus clairs sont ceux qui ont le plus de variance dans les données. Sans surprise, les pixels sombres sont localisés sur les contours de l'image, puisque ce sont ceux qui ont le moins de variance.\n",
    "Comparons la localisation des pixels clairs avec les pixels les plus représentés par les premières composantes."
   ]
  },
  {
   "cell_type": "code",
   "execution_count": 12,
   "metadata": {
    "scrolled": false
   },
   "outputs": [
    {
     "data": {
      "image/png": "[encoded data removed]",
      "text/plain": [
       "<matplotlib.figure.Figure at 0xb76f3c8>"
      ]
     },
     "metadata": {},
     "output_type": "display_data"
    },
    {
     "data": {
      "image/png": "[encoded data removed]",
      "text/plain": [
       "<matplotlib.figure.Figure at 0xb7abef0>"
      ]
     },
     "metadata": {},
     "output_type": "display_data"
    }
   ],
   "source": [
    "p = 0\n",
    "t = 0.1\n",
    "\n",
    "I = np.reshape(np.abs(comp[p,:]),(16,16))  # p-th PCA component \n",
    "plt.imshow(I,cmap='gray')\n",
    "plt.title(\"Représentation de la composante \"+str(p))\n",
    "\n",
    "plt.figure()\n",
    "I[I<t] = 0 # un seuillage fait apparaître les pixels aux coefficients associés les plus élevés\n",
    "plt.imshow(I,cmap='gray')\n",
    "plt.title(\"Pixels significatifs uniquement : seuil \"+str(t))\n",
    "plt.show()"
   ]
  },
  {
   "cell_type": "markdown",
   "metadata": {},
   "source": [
    "Dans cette image, les pixels les plus clairs sont ceux qui sont pris en compte dans la composante *p*. La composante p (dans $R^{256}$) maximise la variance des données sous contrainte d'appartenir au sous-espace perpendiculaire aux composantes d'ordre plus élevé (composantes d'indice plus petit que *p*).\n",
    "\n",
    "Lorsque *p* est petit, l'image obtenue fait apparaître des coefficients clairs aux mêmes endroits que sur la figure précédente précédente (fig 1 : Variance des pixels).\n",
    "\n",
    "Voyons maintenant un ordre de grandeur du nombre de composantes parmi les premières qui sont nécessaires pour que l'image seuillée recouvre une majorité des pixels attendus (ie fig 1)."
   ]
  },
  {
   "cell_type": "code",
   "execution_count": 13,
   "metadata": {},
   "outputs": [
    {
     "data": {
      "image/png": "[encoded data removed]",
      "text/plain": [
       "<matplotlib.figure.Figure at 0xb7047b8>"
      ]
     },
     "metadata": {},
     "output_type": "display_data"
    },
    {
     "data": {
      "image/png": "[encoded data removed]",
      "text/plain": [
       "<matplotlib.figure.Figure at 0xb6d1978>"
      ]
     },
     "metadata": {},
     "output_type": "display_data"
    }
   ],
   "source": [
    "pmax = 5\n",
    "t = 0.1\n",
    "p_render = 2*4 # doit être pair\n",
    "\n",
    "f = plt.figure()\n",
    "I = np.reshape(np.max(np.abs(comp[:(pmax+1),:]),axis=0),(16,16))\n",
    " # pour chaque pixel, on prend le max des abs des pmax premières composantes\n",
    "plt.imshow(I,cmap='gray')\n",
    "plt.title(\"Représentation des composantes N°0..\"+str(pmax))\n",
    "\n",
    "f = plt.figure()\n",
    "I = np.zeros((16,16))\n",
    "for i in range(p_render):\n",
    "    I = np.reshape(np.max(np.abs(comp[:(i+1),:]),axis=0),(16,16))\n",
    "    I[I<t] = 0 # un seuillage fait apparaître les pixels aux coefficients associés les plus élevés\n",
    "    plt.subplot(2,p_render/2,i+1)\n",
    "    plt.imshow(I,cmap='gray')\n",
    "    plt.title('N°0..'+str(i))\n",
    "plt.suptitle('Pixels significatifs uniquement')\n",
    "plt.show()"
   ]
  },
  {
   "cell_type": "markdown",
   "metadata": {},
   "source": [
    "Tests pour pmax = 4, 10, et 40\n",
    "\n",
    "On observe que les 5 premières composantes recouvre déjà une bonne partie des pixels utiles.\n",
    "\n",
    "Les 41 premières composantes représentent probablement plus d'informations que nécessaire à une classification des chiffres 5 versus 6."
   ]
  },
  {
   "cell_type": "code",
   "execution_count": 14,
   "metadata": {},
   "outputs": [
    {
     "name": "stdout",
     "output_type": "stream",
     "text": [
      "0.451847805024 0.638591084682 0.891928156589\n"
     ]
    }
   ],
   "source": [
    "var_ratio = pca.explained_variance_ratio_   # Percentage of variance explained by each of the selected components, sum = 1\n",
    "cs = np.cumsum(var_ratio)\n",
    "print(cs[4],cs[10],cs[40])"
   ]
  },
  {
   "cell_type": "markdown",
   "metadata": {},
   "source": [
    "On observe ici la somme cumulée des pourcentages de variance associée aux composantes principales, et on obtient en effet que les 5 premières composantes (sur 256) contiennent à elles seules près de la moitié de la variance des données."
   ]
  },
  {
   "cell_type": "markdown",
   "metadata": {
    "collapsed": true
   },
   "source": [
    "### Exercise 1: PCA & approximation\n",
    "\n",
    "1. Read the documentation of function `PCA` and identify the input and output parameters.\n",
    "2. Implement a progressive reconstruction of an image of digit 5 by adding the successive \n",
    "contribution of principal components.\n",
    "3. Observe graphical results. How many components are necessary to obtain a \n",
    "reconstruction that you may consider as acceptable? nice? very nice?\n",
    "4. Optional question: do the same for 6."
   ]
  },
  {
   "cell_type": "markdown",
   "metadata": {},
   "source": [
    "Ecrivons la décomposition SVD $M = U\\Sigma V^*$\n",
    "- *components_* correspond à $V^*$ (les composantes sont rangées en ligne dans *components_*)\n",
    "- *singular_values_* correspond aux coefficients diagonaux de $\\Sigma$\n",
    "- *pca.transform(N)* correspond à la projection de $N$ selon $V^*$, soit $W_N$ telle que $N = W_NV^*$ ; à noter que $W_M = U\\Sigma$ :"
   ]
  },
  {
   "cell_type": "code",
   "execution_count": 15,
   "metadata": {},
   "outputs": [
    {
     "ename": "NameError",
     "evalue": "name 'L' is not defined",
     "output_type": "error",
     "traceback": [
      "\u001b[1;31m---------------------------------------------------------------------------\u001b[0m",
      "\u001b[1;31mNameError\u001b[0m                                 Traceback (most recent call last)",
      "\u001b[1;32m<ipython-input-15-ad57e18a5c1b>\u001b[0m in \u001b[0;36m<module>\u001b[1;34m()\u001b[0m\n\u001b[0;32m      1\u001b[0m \u001b[0mdiff\u001b[0m \u001b[1;33m=\u001b[0m \u001b[1;33m(\u001b[0m\u001b[0mx_train_centre\u001b[0m \u001b[1;33m-\u001b[0m \u001b[0mpca\u001b[0m\u001b[1;33m.\u001b[0m\u001b[0mtransform\u001b[0m\u001b[1;33m(\u001b[0m\u001b[0mx_train_centre\u001b[0m\u001b[1;33m)\u001b[0m\u001b[1;33m.\u001b[0m\u001b[0mdot\u001b[0m\u001b[1;33m(\u001b[0m\u001b[0mcomp\u001b[0m\u001b[1;33m)\u001b[0m\u001b[1;33m)\u001b[0m\u001b[1;33m\u001b[0m\u001b[0m\n\u001b[1;32m----> 2\u001b[1;33m \u001b[0mnp\u001b[0m\u001b[1;33m.\u001b[0m\u001b[0mmax\u001b[0m\u001b[1;33m(\u001b[0m\u001b[0mnp\u001b[0m\u001b[1;33m.\u001b[0m\u001b[0mabs\u001b[0m\u001b[1;33m(\u001b[0m\u001b[0mL\u001b[0m\u001b[1;33m[\u001b[0m\u001b[1;33m:\u001b[0m\u001b[1;33m]\u001b[0m\u001b[1;33m)\u001b[0m\u001b[1;33m)\u001b[0m \u001b[1;31m# valeur attendue 0 si x_train_centre est à l'orinine de pca.fit()\u001b[0m\u001b[1;33m\u001b[0m\u001b[0m\n\u001b[0m",
      "\u001b[1;31mNameError\u001b[0m: name 'L' is not defined"
     ]
    }
   ],
   "source": [
    "diff = (x_train_centre - pca.transform(x_train_centre).dot(comp))\n",
    "np.max(np.abs(L[:])) # valeur attendue 0 si x_train_centre est à l'orinine de pca.fit()"
   ]
  },
  {
   "cell_type": "markdown",
   "metadata": {},
   "source": [
    "(L'erreur $10^{-15}$ est due seulement à une erreur de calcul machine, on peut considérer que la différence des deux matrices est bien nulle.)"
   ]
  },
  {
   "cell_type": "code",
   "execution_count": null,
   "metadata": {},
   "outputs": [],
   "source": [
    "n = 9\n",
    "p_render = np.hstack(([0,1,2,3,4,5,6,7,8,9],np.arange(10,51,5),[255]))\n",
    "\n",
    "f = plt.figure(figsize=(11,11))\n",
    "for i in range(len(p_render)):\n",
    "    I = I_moy + np.reshape(proj[n,:(p_render[i]+1)].dot(comp[:(p_render[i]+1),:]),(16,16))\n",
    "    plt.subplot(4,5,i+1)\n",
    "    plt.imshow(I,cmap='gray')\n",
    "    plt.title('N°0..'+str(p_render[i]))\n",
    "plt.suptitle('Pixels significatifs uniquement')\n",
    "plt.show()"
   ]
  },
  {
   "cell_type": "markdown",
   "metadata": {},
   "source": [
    "n=9 (l'image est un 5)\n",
    "- On reconnaît un 5 avec plutôt bonne certitude avec 2 composantes, mais les figures avec 3 et 4 composantes sont incertaines.\n",
    "- A partir de 5 composantes, il n'y a plus vraiment de doute sur le chiffre.\n",
    "- A partir de 31 composantes, l'image est plus contrastée et encore plus lisible."
   ]
  },
  {
   "cell_type": "code",
   "execution_count": null,
   "metadata": {
    "scrolled": false
   },
   "outputs": [],
   "source": [
    "n = 150\n",
    "p_render = np.hstack(([0,1,2,3,4,5,6,7,8,9],np.arange(10,51,5),[255]))\n",
    "\n",
    "f = plt.figure(figsize=(11,11))\n",
    "for i in range(len(p_render)):\n",
    "    I = I_moy + np.reshape(proj[n,:(p_render[i]+1)].dot(comp[:(p_render[i]+1),:]),(16,16))\n",
    "    plt.subplot(4,5,i+1)\n",
    "    plt.imshow(I,cmap='gray')\n",
    "    plt.title('N°0..'+str(p_render[i]))\n",
    "plt.suptitle('Pixels significatifs uniquement')\n",
    "plt.show()"
   ]
  },
  {
   "cell_type": "markdown",
   "metadata": {},
   "source": [
    "n=150 (l'image est un 6)\n",
    "- On reconnaît un 6 avec plutôt bonne certitude dès 1 composante !\n",
    "- A partir de 16 composantes, l'image est bien contrastée."
   ]
  },
  {
   "cell_type": "markdown",
   "metadata": {},
   "source": [
    "### Exercise 2: PCA & classification\n",
    "1. Use `proj[0:2,:]` as the coordinates of a point representing each sample\n",
    "of the training set in a plane. Display the cloud of points associated to\n",
    "digits 5 and 6 by using 2 different colors.\n",
    "2. Comment on the repartition of points in the plane. \n",
    "3. Do you see how this PCA step makes possible the use of a much simpler classification? \n",
    "What would you propose as an alternative to logistic regression of TP3 then?\n"
   ]
  },
  {
   "cell_type": "markdown",
   "metadata": {},
   "source": [
    "On peut dans un premier temps visualiser les répartitions des coordonnées des projections sur les 2 premières composantes (p=0 et p=1)."
   ]
  },
  {
   "cell_type": "code",
   "execution_count": null,
   "metadata": {},
   "outputs": [],
   "source": [
    "p = 1 # testons p=0 et p=1\n",
    "x = np.hstack(([5]*145,[6]*200))\n",
    "f = plt.figure(figsize=(15,5))\n",
    "plt.scatter(proj[:,p],x)\n",
    "plt.show()\n",
    "print(np.mean(proj[:145,p]),np.mean(proj[145:,p]))\n",
    "print(np.std(proj[:145,p]),np.std(proj[145:,p]))"
   ]
  },
  {
   "cell_type": "markdown",
   "metadata": {},
   "source": [
    "Cette première visualisation simple fait penser à un problème de mélange de gaussiennes.\n",
    "\n",
    "Affichons maintenant les coordonnées des projections sur les 2 premières composantes dans un repère 2D :"
   ]
  },
  {
   "cell_type": "code",
   "execution_count": null,
   "metadata": {},
   "outputs": [],
   "source": [
    "plt.scatter(proj[:145,0],proj[:145,1],c='r',label=\"5\") # 5s en rouge\n",
    "plt.scatter(proj[145:,0],proj[145:,1],c='b',label=\"6\") # 6s en bleu\n",
    "plt.title(\"Projection des données dans le plan (comp[0],comp[1])\")\n",
    "plt.legend(loc='best', shadow=False, scatterpoints=1)\n",
    "plt.show()"
   ]
  },
  {
   "cell_type": "markdown",
   "metadata": {},
   "source": [
    "On peut confirmer ici que le problème de classification peut être considéré comme un problème de mélange de gaussienne. Une approche pourrait alors être d'effectuer une QDA sur les données projetées sur les premières composantes principales issues de l'ACP."
   ]
  },
  {
   "cell_type": "code",
   "execution_count": null,
   "metadata": {},
   "outputs": [],
   "source": [
    "from sklearn.discriminant_analysis import QuadraticDiscriminantAnalysis\n",
    "from numpy.random import shuffle\n",
    "\n",
    "p = 4\n",
    "qda = QuadraticDiscriminantAnalysis()\n",
    "\n",
    "X_data = np.zeros((345,p+1))\n",
    "X_data[:,0] = np.hstack(np.hstack(([5]*145,[6]*200)))\n",
    "X_data[:,1:] = proj[:,:p]\n",
    "\n",
    "shuffle(X_data)\n",
    "N_train = 170\n",
    "N_test = 345-N_train\n",
    "X_train = X_data[:170,:]\n",
    "X_test = X_data[170:,:]\n",
    "\n",
    "qda.fit(X_train[:,1:], X_train[:,0])\n",
    "erreur = np.sum(np.abs(qda.predict(X_test[:,1:])-X_test[:,0]))/N_test\n",
    "\n",
    "print(\"Erreur = \",erreur)"
   ]
  },
  {
   "cell_type": "markdown",
   "metadata": {},
   "source": [
    "Avec seulement 4 composantes principales, l'erreur obtenue ici est d'environ 4% contre les 8% que l'on avait obtenus avec 173 entrées au TP3, soit 2 fois moins d'erreur !"
   ]
  },
  {
   "cell_type": "markdown",
   "metadata": {},
   "source": [
    "## Beyong this lab\n",
    "\n",
    "Have a look at other examples of applications, like\n",
    "\n",
    "http://scikit-learn.org/stable/auto_examples/decomposition/plot_faces_decomposition.html#sphx-glr-auto-examples-decomposition-plot-faces-decomposition-py\n",
    "    "
   ]
  },
  {
   "cell_type": "markdown",
   "metadata": {
    "collapsed": true
   },
   "source": [
    "En reconnaissance faciale, l'ACP peut permettre d'extraire à partir d'images un dictionnaire de composantes principales. Ainsi, l'information d'un visage en haute résolution peut être drastiquement compressée si l'information utile se résume par exemple au sexe de la personne, ses origines ethniques, ses lunettes, sa barbe ...\n",
    "\n",
    "Tout comme l'exemple de reconnaissance des chiffres manuscrits, cet exemple d'application en analyse de visage est bien connu et est également utilisé dans un des TP du MOOC Coursera d'Apprentissage Automatique de Andrew Ng. :)"
   ]
  }
 ],
 "metadata": {
  "kernelspec": {
   "display_name": "Python 3",
   "language": "python",
   "name": "python3"
  },
  "language_info": {
   "codemirror_mode": {
    "name": "ipython",
    "version": 3
   },
   "file_extension": ".py",
   "mimetype": "text/x-python",
   "name": "python",
   "nbconvert_exporter": "python",
   "pygments_lexer": "ipython3",
   "version": "3.6.3"
  }
 },
 "nbformat": 4,
 "nbformat_minor": 2
}
