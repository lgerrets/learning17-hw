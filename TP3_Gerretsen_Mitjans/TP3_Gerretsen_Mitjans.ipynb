{
 "cells": [
  {
   "cell_type": "markdown",
   "metadata": {},
   "source": [
    "## TP3 : Logistic regression\n",
    "\n",
    "The purpose of this tutorial is to implement and use the Logistic Regression for binary classification. We will apply this\n",
    "method to the problem of handwritten characters to learn how to\n",
    "distinguish two numbers (here 5 and 6).\n"
   ]
  },
  {
   "cell_type": "code",
   "execution_count": 5,
   "metadata": {
    "collapsed": true
   },
   "outputs": [],
   "source": [
    "from pylab import *\n",
    "#import numpy as np\n",
    "#import matplotlib.pyplot as plt\n",
    "\n",
    "from numpy import linalg as la"
   ]
  },
  {
   "cell_type": "markdown",
   "metadata": {},
   "source": [
    "## 1. Logistic regression, IRLS algorithm."
   ]
  },
  {
   "cell_type": "markdown",
   "metadata": {},
   "source": [
    "### Preliminary question: the algorithm"
   ]
  },
  {
   "cell_type": "markdown",
   "metadata": {},
   "source": [
    "#### Have a look at the function `regression_logistique.m` and locate the main steps of the algorithm you have been taught (see course).\n",
    "You can comment the code in the cell below."
   ]
  },
  {
   "cell_type": "code",
   "execution_count": 6,
   "metadata": {
    "collapsed": true
   },
   "outputs": [],
   "source": [
    "def regression_logistique(X,t,Nitermax=20,eps_conv=1e-3):\n",
    "    '''Entrees :\n",
    "    X = [ones(N_train,1) x_train];\n",
    "    t = class_train \n",
    "    Nitermax = nombre maximale d'itérations (20 par défaut)\n",
    "    eps_conv = critère de convergence sur norm(w-w_old)/norm(w) ; \n",
    "    eps_conv=1e-3 par défaut\n",
    "    \n",
    "    Sorties : \n",
    "    w : vecteur des coefficients de régression logistique\n",
    "   Niter : nombre d'itérations utilisées effectivement\n",
    "   \n",
    "   Fonction de régression logistique pour la classification binaire.\n",
    "   \n",
    "   Utilisation :\n",
    "       Nitermax = 50\n",
    "       eps_conv = 1e-4\n",
    "       [w,Niter] = regression_logistique(X,t,Nitermax,eps_conv)\n",
    "    '''\n",
    "    N_train = X.shape[0]\n",
    "\n",
    "    #initialisation : 1 pas de l'algorithme IRLS\n",
    "    w = np.zeros((X.shape[1],)) # coefficients de regression initialisés à 0\n",
    "    w_old = w \n",
    "    y = 1/2*np.ones((N_train,)) # probabilités d'appartenir à la classe 1 initialisées à 1/2\n",
    "    R = np.diag(y*(1-y))   # diag(y_n(1-y_n))\n",
    "    z = X.dot(w_old)-la.inv(R).dot(y-t)\n",
    "    w = la.inv(X.T.dot(R).dot(X)).dot(X.T).dot(R).dot(z)\n",
    "\n",
    "    # boucle appliquant l'algortihme de Newton-Raphson\n",
    "    Niter = 1\n",
    "    while ( (la.norm(w-w_old)/la.norm(w)>eps_conv) & (Niter<Nitermax) ): \n",
    "        # arrêt par critère de convergence ou nombre d'iterations\n",
    "        Niter = Niter+1\n",
    "        y = 1/(1+np.exp(-X.dot(w))) # mise à jour des probabilités en appliquant la fonction logistique\n",
    "        R = np.diag(y*(1-y))  \n",
    "        w_old = w \n",
    "        z = X.dot(w_old)-la.inv(R).dot(y-t) # calcul du z intermédiaire\n",
    "        w = la.inv(X.T.dot(R).dot(X)).dot(X.T).dot(R).dot(z) # calcul de w_new optimisé\n",
    "         \n",
    "    return w, Niter\n"
   ]
  },
  {
   "cell_type": "markdown",
   "metadata": {},
   "source": [
    "### Reading & preparing synthetic data\n",
    "\n",
    "Load the training and test data sets `synth_train.txt`\n",
    "and `synth_test.txt`. The targets t belong to {1,2} and the features  \n",
    "x belong to R^2. \n",
    "\n",
    "We have 100 training samples and 200 test samples\n",
    "\n",
    "* the 1st column contains the label of each sample, \n",
    "* columns 2 and 3 contain the coordinate of each point."
   ]
  },
  {
   "cell_type": "code",
   "execution_count": 7,
   "metadata": {},
   "outputs": [],
   "source": [
    "# Training set\n",
    "synth_train = np.loadtxt('synth_train.txt') \n",
    "class_train = synth_train[:,0]\n",
    "class_train_1 = np.where(synth_train[:,0]==1)[0]\n",
    "class_train_2 = np.where(synth_train[:,0]==2)[0]\n",
    "x_train = synth_train[:,1:]\n",
    "N_train = np.size(x_train,axis=0)\n",
    "\n",
    "# Test set\n",
    "synth_test = np.loadtxt('synth_test.txt')\n",
    "class_test = synth_test[:,0]\n",
    "class_test_1 = np.where(synth_test[:,0]==1)[0]\n",
    "class_test_2 = np.where(synth_test[:,0]==2)[0]\n",
    "x_test = synth_test[:,1:]\n",
    "N_test = np.size(x_test,axis=0)"
   ]
  },
  {
   "cell_type": "code",
   "execution_count": 10,
   "metadata": {},
   "outputs": [
    {
     "data": {
      "image/png": "[encoded data removed]",
      "text/plain": [
       "<matplotlib.figure.Figure at 0xaafc7f0>"
      ]
     },
     "metadata": {},
     "output_type": "display_data"
    }
   ],
   "source": [
    "plt.scatter(x_test[class_test_1][:,0],x_test[class_test_1][:,1],marker='x',c='b')\n",
    "plt.scatter(x_test[class_test_2][:,0],x_test[class_test_2][:,1],marker='x',c='r')\n",
    "plt.show()"
   ]
  },
  {
   "cell_type": "markdown",
   "metadata": {},
   "source": [
    "On voit en observant les données sur le test set qu'elles ne sont pas linéairement séparables. On n'obtiendra pas une erreur nulle avec une frontière de décision simplement linéaire."
   ]
  },
  {
   "cell_type": "markdown",
   "metadata": {},
   "source": [
    "### Preparing features for logistic regression (binary classification)\n",
    "First, we prepare the feature matrix and the target vector associated to \n",
    "the training and test sets:\n"
   ]
  },
  {
   "cell_type": "code",
   "execution_count": 11,
   "metadata": {
    "collapsed": true
   },
   "outputs": [],
   "source": [
    "X = np.hstack((np.ones((N_train,1)),x_train))\n",
    "t = 2-class_train   # 0 if class=2, 1 if class=1\n",
    "\n",
    "X_test = np.hstack((np.ones((N_test,1)),x_test))\n",
    "t_test = 2-class_test   # 0 if class=2, 1 if class=1"
   ]
  },
  {
   "cell_type": "markdown",
   "metadata": {},
   "source": [
    "### Exercise 1 : the logistic function of decision\n",
    "\n",
    "1. Use the function `regression_logistique.m` to estimate the logistic\n",
    "regression vector `w`. *Indication : use `Nitermax = 50;\n",
    "eps_conv=1e-3;`.*\n",
    "2. Compute the decision function $f(x) = argmax_k P(C_k|x)$ on the test set\n",
    "to get the classification results. Recall that $y_n=\\sigma(w^T x)$ (logistic function)\n",
    "and that *using vectors* you may directly write $y=\\sigma(Xw)$, with the\n",
    "column of ones in X.\n",
    "3. Display the results by plotting the points from both the training set\n",
    "and the test set.\n",
    "4. Write the equation which defines the decision boundary.\n",
    "5. Artificially add a few points to the training set far from the decision boundary to check the robustness of logistic regression to outliers. Check the behaviour of LDA for comparison in this case and comment. \n"
   ]
  },
  {
   "cell_type": "code",
   "execution_count": 12,
   "metadata": {
    "collapsed": true
   },
   "outputs": [],
   "source": [
    "def f_logistic(x):\n",
    "    '''retourne l'image de x par la fonction logistique '''\n",
    "    return 1/(1+np.exp(-x))"
   ]
  },
  {
   "cell_type": "code",
   "execution_count": 13,
   "metadata": {},
   "outputs": [
    {
     "name": "stdout",
     "output_type": "stream",
     "text": [
      "Erreur :  0.06\n",
      "Vecteur de poids [-15.206658    -7.91866363   6.56243114]\n"
     ]
    }
   ],
   "source": [
    "#Exercise 1\n",
    "w, Niter = regression_logistique(X, t, 50)\n",
    "y = X_test.dot(w)\n",
    "y_pred = np.zeros(y.shape)\n",
    "\n",
    "# Fonction de décision :\n",
    "y_pred[y>0] = 1 # classe 1\n",
    "y_pred[y<=0] = 0 # classe 2\n",
    "\n",
    "print(\"Erreur : \",sum(abs(y_pred-t_test))/len(t_test))\n",
    "print(\"Vecteur de poids\",w)"
   ]
  },
  {
   "cell_type": "markdown",
   "metadata": {},
   "source": [
    "Notre fonction de décision est bien équivalente à prendre $argmax_k (P(C_k|x))$. \n",
    "En effet, dans le cas K=2, $P(C_1|x) = \\sigma(w^Tx) = 1-P(C_2|x)$."
   ]
  },
  {
   "cell_type": "markdown",
   "metadata": {},
   "source": [
    "You can draw the decision boundary $w^Tx = 0$ by using: \n"
   ]
  },
  {
   "cell_type": "code",
   "execution_count": 14,
   "metadata": {
    "scrolled": true
   },
   "outputs": [
    {
     "data": {
      "image/png": "[encoded data removed]",
      "text/plain": [
       "<matplotlib.figure.Figure at 0xaf14b38>"
      ]
     },
     "metadata": {},
     "output_type": "display_data"
    }
   ],
   "source": [
    "# First compute w... then: \n",
    "x1 = np.linspace(-2.5,1.5,10) \n",
    "x2 = (-w[0]-w[1]*x1)/w[2]\n",
    "plt.figure(figsize=(10,5))\n",
    "plt.plot(x1,x2,'k--')\n",
    "plt.scatter(x_test[t_test==0][:,0],x_test[t_test==0][:,1],marker='x',c='b')\n",
    "plt.scatter(x_test[t_test==1][:,0],x_test[t_test==1][:,1],marker='x',c='r')\n",
    "plt.scatter(x_train[t==0][:,0],x_train[t==0][:,1],marker='x',c='b')\n",
    "plt.scatter(x_train[t==1][:,0],x_train[t==1][:,1],marker='x',c='r')\n",
    "plt.title(\"Affichage des points des train et test set par rapport à la frontière de décision\")\n",
    "plt.legend((\"Frontiere de decision\",\"Classe 2 réelle\", \"Classe 1 réelle\"))\n",
    "plt.show()"
   ]
  },
  {
   "cell_type": "markdown",
   "metadata": {},
   "source": [
    "**Construction de la frontière de décision**\n",
    "\n",
    "$w$ contient un terme de biais et 2 coefficients associés aux 2 entrées.\n",
    "$w^Tx = w_0 + w_1x_1 + w_2x_2$.\n",
    "\n",
    "Si on pose $seuil = 1/2$, on a que $\\sigma(w^Tx) = seuil \\iff w^Tx = 0$\n",
    "\n",
    "D'où la formule :\n",
    "\n",
    "$x_2 = \\frac{-w_0-w_1x_1}{w_2}$"
   ]
  },
  {
   "cell_type": "markdown",
   "metadata": {},
   "source": [
    "La frontière de décision sépare les données avec une erreur de 6% sur le test set. Au dessus (resp. en dessous) de la frontière de décision, on prédit la classe 1 (resp. 2)."
   ]
  },
  {
   "cell_type": "markdown",
   "metadata": {},
   "source": [
    "** Ajout de points loin de la frontière de décision dans le train set**"
   ]
  },
  {
   "cell_type": "code",
   "execution_count": 15,
   "metadata": {
    "collapsed": true
   },
   "outputs": [],
   "source": [
    "X_perturbe = np.zeros((X.shape[0]+4,X.shape[1]))\n",
    "X_perturbe[4:,:] = X\n",
    "X_perturbe[0,:] = [1, 3, -1.12]\n",
    "X_perturbe[1,:] = [1, 2, -3.1]\n",
    "X_perturbe[2,:] = [1, 3, -4.2]\n",
    "X_perturbe[3,:] = [1, -2, 5.5]\n",
    "\n",
    "t_perturbe = np.zeros((t.shape[0]+4,))\n",
    "t_perturbe[4:] = t\n",
    "t_perturbe[0] = 0\n",
    "t_perturbe[1] = 0\n",
    "t_perturbe[2] = 0\n",
    "t_perturbe[3] = 1"
   ]
  },
  {
   "cell_type": "code",
   "execution_count": 16,
   "metadata": {},
   "outputs": [
    {
     "name": "stdout",
     "output_type": "stream",
     "text": [
      "Erreur :  0.06\n",
      "Ancien vecteur de poids [-15.206658    -7.91866363   6.56243114]\n",
      "Nouveau vecteur de poids [-15.20665621  -7.91866272   6.56243034]\n",
      "Différence relative [ -1.17642103e-07  -1.14917556e-07  -1.21592668e-07]\n"
     ]
    }
   ],
   "source": [
    "w_perturbe, Niter = regression_logistique(X_perturbe, t_perturbe, 50)\n",
    "y = X_test.dot(w)\n",
    "y_pred = np.zeros(y.shape)\n",
    "y_pred[y>0] = 1\n",
    "y_pred[y<=0] = 0\n",
    "print(\"Erreur : \",sum(abs(y_pred-t_test))/len(t_test))\n",
    "print(\"Ancien vecteur de poids\",w)\n",
    "print(\"Nouveau vecteur de poids\",w_perturbe)\n",
    "print(\"Différence relative\",(w_perturbe-w)/w)"
   ]
  },
  {
   "cell_type": "code",
   "execution_count": 17,
   "metadata": {},
   "outputs": [
    {
     "data": {
      "image/png": "[encoded data removed]",
      "text/plain": [
       "<matplotlib.figure.Figure at 0xaefa1d0>"
      ]
     },
     "metadata": {},
     "output_type": "display_data"
    },
    {
     "data": {
      "image/png": "[encoded data removed]",
      "text/plain": [
       "<matplotlib.figure.Figure at 0xb5a9f60>"
      ]
     },
     "metadata": {},
     "output_type": "display_data"
    }
   ],
   "source": [
    "x1 = np.linspace(-2.5,1.5,10) \n",
    "x2 = (-w[0]-w[1]*x1)/w[2]\n",
    "x2_perturbe = (-w_perturbe[0]-w_perturbe[1]*x1)/w_perturbe[2]\n",
    "plt.figure(figsize=(10,5))\n",
    "plt.plot(x1,x2_perturbe,'g--')\n",
    "plt.scatter(x_test[t_test==0][:,0],x_test[t_test==0][:,1],marker='x',c='b')\n",
    "plt.scatter(x_test[t_test==1][:,0],x_test[t_test==1][:,1],marker='x',c='r')\n",
    "plt.scatter(X_perturbe[t_perturbe==0][:,1],X_perturbe[t_perturbe==0][:,2],marker='x',c='b')\n",
    "plt.scatter(X_perturbe[t_perturbe==1][:,1],X_perturbe[t_perturbe==1][:,2],marker='x',c='r')\n",
    "plt.title(\"Affichage des points des train et test set par rapport à la frontière de décision\")\n",
    "plt.legend((\"Frontiere de decision\",\"Classe 2 réelle\", \"Classe 1 réelle\"))\n",
    "plt.show()\n",
    "\n",
    "plt.figure()\n",
    "plt.plot(x1,x2,'k--')\n",
    "plt.plot(x1,x2_perturbe,'g--')\n",
    "plt.title(\"Visualisation des frontières de décision\")\n",
    "plt.legend((\"Ancienne frontière\",\"Nouvelle frontière\"))\n",
    "plt.show()"
   ]
  },
  {
   "cell_type": "markdown",
   "metadata": {},
   "source": [
    "On a ajouté des points loin de la frontière de décision, 3 pour la classe 2 et 1 pour la classe 1. Le nouveau vecteur w_perturbe est proche de w. Les frontières de décision sont superposées.\n",
    "\n",
    "On vérifie bien que cela ne déplace pas (peu) la frontière de décision (définie par la donnée de $w$). En effet avec la régression logistique, les points très éloignés ont un poids proche du poids des points qui étaient déjà les plus loins de la frontière dans X_train donné. \n",
    "\n",
    "Bien qu'on ait déterminé une frontière de décision linéaire, (on aurait obtenu aussi une frontière linéaire avec la régression linéaire), une simple régression linéaire nous aurait donné des résultats peu robustes car très sensibles aux exemples extrêmes, d'où l'intérêt de la régression logistique."
   ]
  },
  {
   "cell_type": "markdown",
   "metadata": {},
   "source": [
    "## 2. Application: handwritten digits recognition 5 & 6\n",
    "We load 2 matrices which contain each a sequence of examples of 16x16 images \n",
    "of handwritten digits which are 5 and 6 here. Each line of the matrix\n",
    "contains 256 pixel values coding for the gray level of a 16x16 image."
   ]
  },
  {
   "cell_type": "code",
   "execution_count": 18,
   "metadata": {
    "collapsed": true
   },
   "outputs": [],
   "source": [
    "train_5 = np.loadtxt('train_5.txt',delimiter=',')   # 556 samples\n",
    "train_6 = np.loadtxt('train_6.txt',delimiter=',')   # 664 samples"
   ]
  },
  {
   "cell_type": "markdown",
   "metadata": {},
   "source": [
    "### Examples of images\n"
   ]
  },
  {
   "cell_type": "code",
   "execution_count": 19,
   "metadata": {},
   "outputs": [
    {
     "data": {
      "image/png": "[encoded data removed]",
      "text/plain": [
       "<matplotlib.figure.Figure at 0xcbaceb8>"
      ]
     },
     "metadata": {},
     "output_type": "display_data"
    }
   ],
   "source": [
    "# Digit 5\n",
    "n=42;\n",
    "I = np.reshape(train_5[n,:],(16,16))\n",
    "\n",
    "plt.imshow(I,cmap='gray')\n",
    "plt.show()"
   ]
  },
  {
   "cell_type": "code",
   "execution_count": 20,
   "metadata": {},
   "outputs": [
    {
     "data": {
      "image/png": "[encoded data removed]",
      "text/plain": [
       "<matplotlib.figure.Figure at 0xb64e860>"
      ]
     },
     "metadata": {},
     "output_type": "display_data"
    }
   ],
   "source": [
    "# Digit 6\n",
    "n=5;\n",
    "I = reshape(train_6[n,:],(16,16))\n",
    "\n",
    "plt.imshow(I,cmap='gray')\n",
    "plt.show()"
   ]
  },
  {
   "cell_type": "markdown",
   "metadata": {},
   "source": [
    "### Separating the training and test sets\n",
    "\n",
    "We keep in the training set the 145 first images of 5s and the 200 first\n",
    "images of 6s:\n"
   ]
  },
  {
   "cell_type": "code",
   "execution_count": 21,
   "metadata": {
    "collapsed": true
   },
   "outputs": [],
   "source": [
    "x_train_brut = np.vstack((train_5[:145,:], train_6[:200,:]))\n",
    "N_train = np.size(x_train_brut,axis=0)\n",
    "class_train = np.ones((345,1))   # label 1 for digit 6\n",
    "class_train[:145] = 0       # label 0 for digit 5\n",
    "\n",
    "x_test_brut = np.vstack((train_5[145:,:], train_6[200:,:]))\n",
    "class_test = np.ones((875,1))\n",
    "class_test[:411] = 0\n",
    "N_test = np.size(train_5,axis=0)+np.size(train_6,axis=0)-N_train"
   ]
  },
  {
   "cell_type": "markdown",
   "metadata": {},
   "source": [
    "## Exercise 2: logistic regression to classify 5 & 6\n",
    "\n",
    "1. Note that pixel values are between -1 and 1 by using the functions\n",
    " `min(I(:))` and `max(I(:))`.\n",
    "2. Identify the indices of the most significant pixels, which are defined \n",
    "as having a standard deviation greater than 0.5 here. We denote by `lis_sig`\n",
    "the list of positions of these significant pixels in the image vector.\n",
    "_Indication : the function `std` gives the standard deviation (columnwise\n",
    "in matrices) and you should find 173 pixel positions.\n",
    "3. Show a binary image to locate these pixels.\n",
    "_Indication : `Isig = zeros(16); Isig(list_sig)=1; Isig=Isig';`._\n",
    "4. Define the training set `x_train` from `x_train_brut` from the significant pixels only.\n",
    "5. Do the same with `x_test_brut` to extract `x_test`.\n",
    "6. Use `regression_logistique.m` to estimate the logistic regression vector\n",
    "`w` from the training set `x_train`. \n",
    "Choose `Nitermax = 13; eps_conv = 1e-3;`\n",
    "7. Compute the decision function and the labels of the test set `x_test`. \n",
    "_Indication : do not forget the column of ones !_\n",
    "8. Estimate the classification error rate by using :\n",
    "`erreur = sum(abs(class-class_test))/N_test;`.\n",
    "9. Locate some misclassified examples and visualize the corresponding image.\n",
    "Comment on your results and observations.\n"
   ]
  },
  {
   "cell_type": "code",
   "execution_count": 22,
   "metadata": {},
   "outputs": [
    {
     "name": "stdout",
     "output_type": "stream",
     "text": [
      "Les valeurs des entrées sont comprises entre  -1.0  et  1.0\n"
     ]
    }
   ],
   "source": [
    "# Exercise 2\n",
    "print(\"Les valeurs des entrées sont comprises entre \", np.min(x_train_brut),\" et \",np.max(x_train_brut))"
   ]
  },
  {
   "cell_type": "code",
   "execution_count": 23,
   "metadata": {},
   "outputs": [
    {
     "data": {
      "text/plain": [
       "array([  7,   8,   9,  10,  11,  12,  20,  21,  22,  23,  24,  25,  26,\n",
       "        27,  28,  29,  36,  37,  38,  39,  40,  41,  42,  43,  44,  45,\n",
       "        51,  52,  53,  54,  55,  56,  57,  58,  59,  66,  67,  68,  69,\n",
       "        70,  71,  72,  73,  82,  83,  84,  85,  86,  87,  88,  89,  98,\n",
       "        99, 100, 101, 102, 103, 104, 105, 106, 107, 114, 115, 116, 117,\n",
       "       118, 119, 120, 121, 122, 123, 124, 125, 130, 131, 132, 133, 134,\n",
       "       135, 136, 137, 138, 139, 140, 141, 145, 146, 147, 148, 149, 150,\n",
       "       151, 152, 153, 154, 155, 156, 157, 158, 161, 162, 163, 164, 165,\n",
       "       166, 167, 168, 169, 170, 171, 172, 173, 174, 177, 178, 179, 180,\n",
       "       181, 182, 183, 184, 185, 186, 187, 188, 189, 190, 193, 194, 195,\n",
       "       196, 197, 198, 199, 200, 201, 202, 203, 204, 205, 206, 209, 210,\n",
       "       211, 212, 213, 214, 215, 216, 217, 218, 219, 220, 221, 226, 227,\n",
       "       228, 229, 230, 231, 232, 233, 234, 235, 236, 244, 245, 246, 247,\n",
       "       248, 249, 250, 251], dtype=int64)"
      ]
     },
     "execution_count": 23,
     "metadata": {},
     "output_type": "execute_result"
    }
   ],
   "source": [
    "a = np.std(x_train_brut,axis=0)\n",
    "list_sig = np.where(a>0.5)[0]\n",
    "list_sig"
   ]
  },
  {
   "cell_type": "markdown",
   "metadata": {},
   "source": [
    "On obtient la liste des indices 173 pixels significatifs"
   ]
  },
  {
   "cell_type": "code",
   "execution_count": 24,
   "metadata": {},
   "outputs": [
    {
     "data": {
      "image/png": "[encoded data removed]",
      "text/plain": [
       "<matplotlib.figure.Figure at 0xca07c88>"
      ]
     },
     "metadata": {},
     "output_type": "display_data"
    }
   ],
   "source": [
    "Isig = zeros(16*16)\n",
    "Isig[list_sig]=1\n",
    "\n",
    "Isig = np.reshape(Isig,(16,16))\n",
    "plt.imshow(Isig,cmap='gray')\n",
    "plt.show()"
   ]
  },
  {
   "cell_type": "markdown",
   "metadata": {},
   "source": [
    "Comme on peut s'y attendre, les pixels du bord de l'image ne sont pas significatifs (en noir ci-dessus), et on peut les éliminer de notre calcul. On va donc définir x_train et x_test avec seulement les pixels significatifs :"
   ]
  },
  {
   "cell_type": "code",
   "execution_count": 25,
   "metadata": {},
   "outputs": [
    {
     "name": "stdout",
     "output_type": "stream",
     "text": [
      "(345, 174) (875, 174)\n"
     ]
    }
   ],
   "source": [
    "x_train = np.hstack((np.ones((N_train,1)),x_train_brut[:,list_sig])) \n",
    "x_test = np.hstack((np.ones((N_test,1)),x_test_brut[:,list_sig]))\n",
    "print(x_train.shape, x_test.shape)"
   ]
  },
  {
   "cell_type": "code",
   "execution_count": 26,
   "metadata": {
    "scrolled": true
   },
   "outputs": [
    {
     "name": "stdout",
     "output_type": "stream",
     "text": [
      "(174,) -9.98704983993\n"
     ]
    }
   ],
   "source": [
    "w, Niter = regression_logistique(x_train, class_train[:,0], 13)\n",
    "print(w.shape, w[0])"
   ]
  },
  {
   "cell_type": "code",
   "execution_count": 27,
   "metadata": {},
   "outputs": [
    {
     "name": "stdout",
     "output_type": "stream",
     "text": [
      "Erreur :  0.0788571428571\n"
     ]
    }
   ],
   "source": [
    "y = x_test.dot(w)\n",
    "y_pred = np.zeros(y.shape)\n",
    "y_pred[y>0] = 1\n",
    "y_pred[y<=0] = 0\n",
    "\n",
    "erreur = sum(abs(y_pred - class_test[:,0]))/N_test\n",
    "print(\"Erreur : \", erreur)"
   ]
  },
  {
   "cell_type": "code",
   "execution_count": 28,
   "metadata": {},
   "outputs": [
    {
     "data": {
      "text/plain": [
       "array([ 0.,  0.,  0.,  0.,  0.,  0.,  0.,  1.,  1.,  0.])"
      ]
     },
     "execution_count": 28,
     "metadata": {},
     "output_type": "execute_result"
    }
   ],
   "source": [
    "y_pred[20:30]"
   ]
  },
  {
   "cell_type": "markdown",
   "metadata": {},
   "source": [
    "Observons l'image x_test[27], qui est un 5 mais a été classée comme un 6 par notre régression logistique, et x_test[416] qui est un 6 qui a été classé comme un 5."
   ]
  },
  {
   "cell_type": "code",
   "execution_count": 29,
   "metadata": {},
   "outputs": [
    {
     "data": {
      "image/png": "[encoded data removed]",
      "text/plain": [
       "<matplotlib.figure.Figure at 0xca07080>"
      ]
     },
     "metadata": {},
     "output_type": "display_data"
    },
    {
     "data": {
      "image/png": "[encoded data removed]",
      "text/plain": [
       "<matplotlib.figure.Figure at 0xc12a438>"
      ]
     },
     "metadata": {},
     "output_type": "display_data"
    }
   ],
   "source": [
    "I1 = reshape(x_test_brut[27],(16,16))\n",
    "\n",
    "plt.imshow(I1,cmap='gray')\n",
    "plt.show()\n",
    "\n",
    "I2 = reshape(x_test_brut[416],(16,16))\n",
    "\n",
    "plt.figure()\n",
    "plt.imshow(I2,cmap='gray')\n",
    "plt.show()"
   ]
  },
  {
   "cell_type": "markdown",
   "metadata": {},
   "source": [
    "On a obtenu une erreur de 7.9%\n",
    "\n",
    "En observant les images sur lesquelles notre méthode se trompe, on voit que l'erreur peut être due à une écriture humaine plus qu'approximative, et parfois même l'oeil ne peut pas déterminer parfaitement cette classification.\n",
    "\n",
    "On peut encore noter que le 5 et le 6 sont les deux chiffres présentant le plus de ressemblances, et on suppose que l'erreur serait plus faible pour n'importe quelle autre paire de chiffres.\n",
    "\n",
    "On voit tout de même à travers cet exemple les limites de la régression logistique : la reconnaissance des chiffres n'est faite ici qu'à partir des pixels pris individuellement. Des techniques plus avancées de traitement d'image utilisent des combinaisons non linéaires des fonctions des entrées (frontière de décision différente d'un hyperplan), des matrices de convolution ..."
   ]
  },
  {
   "cell_type": "markdown",
   "metadata": {
    "collapsed": true
   },
   "source": [
    "## 3. Logistic regression using `scikit-learn`"
   ]
  },
  {
   "cell_type": "markdown",
   "metadata": {
    "collapsed": true
   },
   "source": [
    "1. **Go to** http://scikit-learn.org/stable/modules/generated/sklearn.linear_model.LogisticRegression.html for a presentation of the logistic regression model in `scikit-learn`.\n",
    "\n",
    "2. **Apply** it to the present data set.\n",
    "\n",
    "3. **Comment** on the use of logistic regression.\n",
    "\n",
    "*Indication : you may have a look at* \n",
    "\n",
    "a) Theory : http://openclassroom.stanford.edu/MainFolder/DocumentPage.php?course=MachineLearning&doc=exercises/ex5/ex5.html\n",
    "\n",
    "b) Video :  https://www.coursera.org/learn/machine-learning/lecture/4BHEy/regularized-logistic-regression \n",
    "\n",
    "c) Example : http://scikit-learn.org/stable/auto_examples/exercises/plot_digits_classification_exercise.html#sphx-glr-auto-examples-exercises-plot-digits-classification-exercise-py\n",
    "\n",
    "*for a short presentation of regularized logistic regression.*"
   ]
  },
  {
   "cell_type": "code",
   "execution_count": 43,
   "metadata": {},
   "outputs": [
    {
     "name": "stdout",
     "output_type": "stream",
     "text": [
      "Erreur :  0.032\n"
     ]
    },
    {
     "name": "stderr",
     "output_type": "stream",
     "text": [
      "C:\\Users\\Lucas4\\Anaconda3\\lib\\site-packages\\sklearn\\utils\\validation.py:578: DataConversionWarning: A column-vector y was passed when a 1d array was expected. Please change the shape of y to (n_samples, ), for example using ravel().\n",
      "  y = column_or_1d(y, warn=True)\n"
     ]
    }
   ],
   "source": [
    "# Include your code here\n",
    "from sklearn.linear_model import LogisticRegression as LR\n",
    "\n",
    "logistic_fit = LR(penalty='l1').fit(x_train_brut, class_train) # algorithmes d'apprentissage sur le modèle (train set)\n",
    "logistic_fit.predict(x_test_brut) # on peut observer les résultats des prédictions sur le test set\n",
    "\n",
    "#comparaison avec les classes réelles\n",
    "print(\"Erreur : \", 1-logistic_fit.score(x_test_brut, class_test))"
   ]
  },
  {
   "cell_type": "markdown",
   "metadata": {},
   "source": [
    "Avec scikit-learn, on obtient une erreur de 2.4% avec une régularisation de degré 2 contre 3.2% avec degré 1. Notre algorithme nous donne une erreur de 7.9% avec une régularisation de degré 1.\n",
    "\n",
    "L'algorithme de scikit-learn offre par ailleurs la possibilité de changer d'autres paramètres. Les paramètres par défaut (que nous utilisons ici de façon implicite) aboutissent dans notre exemple à de meilleurs résultats que notre algorithme implémenté à la main. Ces paramètres par défaut sont probablement l'issue d'études et expérimentations sur différents cas d'étude."
   ]
  }
 ],
 "metadata": {
  "kernelspec": {
   "display_name": "Python 3",
   "language": "python",
   "name": "python3"
  },
  "language_info": {
   "codemirror_mode": {
    "name": "ipython",
    "version": 3
   },
   "file_extension": ".py",
   "mimetype": "text/x-python",
   "name": "python",
   "nbconvert_exporter": "python",
   "pygments_lexer": "ipython3",
   "version": "3.6.3"
  }
 },
 "nbformat": 4,
 "nbformat_minor": 2
}
